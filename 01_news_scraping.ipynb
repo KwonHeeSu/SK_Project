{
 "cells": [
  {
   "cell_type": "code",
   "execution_count": null,
   "id": "f44707b8",
   "metadata": {},
   "outputs": [
    {
     "name": "stdout",
     "output_type": "stream",
     "text": [
      "https://news.daum.net/culture\n",
      "<class 'requests.models.Response'>\n",
      "200\n",
      "<class 'bs4.element.ResultSet'>\n",
      "0\n"
     ]
    }
   ],
   "source": [
    "import requests\n",
    "from bs4 import BeautifulSoup\n",
    "\n",
    "section_dict = {\n",
    "    'politics': \"정치\",\n",
    "    'economy': \"경제\",\n",
    "    'society': \"사회\",\n",
    "    'culture': \"문화\",\n",
    "    'world': \"국제\",\n",
    "    'tech': \"IT/과학\",\n",
    "}\n",
    "\n",
    "\n",
    "def print_news(sid):  # print_new(103,'생활/문화')\n",
    "    section = section_dict[sid]\n",
    "    # req_param = { \"sid\": sid }\n",
    "    #\n",
    "    url = f\"https://news.daum.net/{sid}\"  # .format(**req_param)\n",
    "    print(f\"{url}\")\n",
    "\n",
    "    # 요청 헤더 설정 : 브라우저 정보\n",
    "    req_header = {\n",
    "        \"user-agent\": \"Mozilla/5.0 (Windows NT 10.0; Win64; x64) AppleWebKit/537.36 (KHTML, like Gecko) Chrome/104.0.0.0 Safari/537.36\"\n",
    "    }\n",
    "\n",
    "    # requests 의 get() 함수 호출하기\n",
    "    res = requests.get(url, headers=req_header)\n",
    "    print(type(res))\n",
    "    print(res.status_code)\n",
    "    \n",
    "    if res.ok:\n",
    "        # 응답 (response)에서 text 추출 - source 보기\n",
    "        html = res.text\n",
    "        # print(html)\n",
    "        # BeautifulSoup 객체 생성  \n",
    "        soup = BeautifulSoup(html, 'html.parser')\n",
    "        # CSS 선택자\n",
    "        a_tag_list = soup.select(\"div.sa_text a[href*='daum.net/v/']\")\n",
    "        print(type(a_tag_list) len(soup.select(\"div.sa_text a[href*='daum.net/v/']\"))) # [<a href=\"http://\">뉴스제목</a>] ResultSet객체, <a></a> : Tag 객체체\n",
    "        print()\n",
    "        # print(a_tag_list) # [<a></a>,<a></a>]\n",
    "        for a_tag in a_tag_list:\n",
    "            # print(type(a_tag))\n",
    "            title = a_tag.text.strip()\n",
    "            # href 속성의 값 가져오기기\n",
    "            link = a_tag['href']\n",
    "            print(link, title)\n",
    "        \n",
    "            # print(a_tag.text.strip())\n",
    "        # <a> 태그 리스트 순회하기    \n",
    "    else:\n",
    "        # 응답(response)이 Error 이면 status code 출력    \n",
    "        print(f'Error Code = {res.status_code}')\n",
    "    \n",
    "# 함수호출\n",
    "print_news('culture')"
   ]
  }
 ],
 "metadata": {
  "kernelspec": {
   "display_name": "base",
   "language": "python",
   "name": "python3"
  },
  "language_info": {
   "codemirror_mode": {
    "name": "ipython",
    "version": 3
   },
   "file_extension": ".py",
   "mimetype": "text/x-python",
   "name": "python",
   "nbconvert_exporter": "python",
   "pygments_lexer": "ipython3",
   "version": "3.12.7"
  }
 },
 "nbformat": 4,
 "nbformat_minor": 5
}
