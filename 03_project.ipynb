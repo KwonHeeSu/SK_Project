{
 "cells": [
  {
   "cell_type": "code",
   "execution_count": 9,
   "id": "6b7eee99",
   "metadata": {},
   "outputs": [
    {
     "ename": "KeyError",
     "evalue": "'items'",
     "output_type": "error",
     "traceback": [
      "\u001b[1;31m---------------------------------------------------------------------------\u001b[0m",
      "\u001b[1;31mKeyError\u001b[0m                                  Traceback (most recent call last)",
      "Cell \u001b[1;32mIn[9], line 61\u001b[0m\n\u001b[0;32m     58\u001b[0m                 file\u001b[38;5;241m.\u001b[39mwrite(item)\n\u001b[0;32m     59\u001b[0m             file\u001b[38;5;241m.\u001b[39mwrite(\u001b[38;5;124m'\u001b[39m\u001b[38;5;124m-\u001b[39m\u001b[38;5;124m'\u001b[39m\u001b[38;5;241m*\u001b[39m\u001b[38;5;241m150\u001b[39m\u001b[38;5;241m+\u001b[39m\u001b[38;5;124m'\u001b[39m\u001b[38;5;130;01m\\n\u001b[39;00m\u001b[38;5;124m'\u001b[39m)\n\u001b[1;32m---> 61\u001b[0m search_books(\u001b[38;5;124m\"\u001b[39m\u001b[38;5;124m파이썬\u001b[39m\u001b[38;5;124m\"\u001b[39m)\n",
      "Cell \u001b[1;32mIn[9], line 32\u001b[0m, in \u001b[0;36msearch_books\u001b[1;34m(query)\u001b[0m\n\u001b[0;32m     30\u001b[0m res \u001b[38;5;241m=\u001b[39m requests\u001b[38;5;241m.\u001b[39mget(url, params\u001b[38;5;241m=\u001b[39mpayload, headers\u001b[38;5;241m=\u001b[39mheaders)\n\u001b[0;32m     31\u001b[0m \u001b[38;5;66;03m# json() 함수로 응답 결과 가져오기\u001b[39;00m\n\u001b[1;32m---> 32\u001b[0m items_data \u001b[38;5;241m=\u001b[39m res\u001b[38;5;241m.\u001b[39mjson()[\u001b[38;5;124m'\u001b[39m\u001b[38;5;124mitems\u001b[39m\u001b[38;5;124m'\u001b[39m]\n\u001b[0;32m     33\u001b[0m \u001b[38;5;66;03m#print(type(res.json()))\u001b[39;00m\n\u001b[0;32m     34\u001b[0m \u001b[38;5;66;03m#print(len(items_data), type(items_data), type(items_data[0]))\u001b[39;00m\n\u001b[0;32m     35\u001b[0m \n\u001b[1;32m   (...)\u001b[0m\n\u001b[0;32m     38\u001b[0m \n\u001b[0;32m     39\u001b[0m \u001b[38;5;66;03m# 'title' , 'bloggername' , 'description' , 'bloggerlink' , 'link'\u001b[39;00m\n\u001b[0;32m     40\u001b[0m items_list \u001b[38;5;241m=\u001b[39m \u001b[38;5;28mlist\u001b[39m()\n",
      "\u001b[1;31mKeyError\u001b[0m: 'items'"
     ]
    }
   ],
   "source": [
    "# 3-1\n",
    "import requests\n",
    "import pprint\n",
    "import os\n",
    "from dotenv import load_dotenv\n",
    "\n",
    "# .env 파일에서 환경 변수 로드\n",
    "load_dotenv()\n",
    "\n",
    "# 환경 변수에서 값 읽기\n",
    "client_id = os.getenv(\"NAVER_CLIENT_ID\")  # .env 파일의 NAVER_CLIENT_ID\n",
    "client_secret = os.getenv(\"NAVER_CLIENT_SECRET\")  # .env 파일의 NAVER_CLIENT_SECRET\n",
    "\n",
    "headers = {\n",
    "    'X-Naver-Client-Id': client_id,\n",
    "    'X-Naver-Client-Secret': client_secret,\n",
    "}\n",
    "\n",
    "def search_books(query):\n",
    "# query string 문자열을 dict 선언\n",
    "    payload = {\n",
    "        'query': query,\n",
    "        'display': 50,\n",
    "        'sort': 'sim'\n",
    "    }\n",
    "\n",
    "    url = 'https://openapi.naver.com/v1/search/book.json' #?query=파이썬&display=100&sort=sim\n",
    "\n",
    "    # requests get(url, params, headers) 요청 \n",
    "    res = requests.get(url, params=payload, headers=headers)\n",
    "    # json() 함수로 응답 결과 가져오기\n",
    "    items_data = res.json()['items']\n",
    "    #print(type(res.json()))\n",
    "    #print(len(items_data), type(items_data), type(items_data[0]))\n",
    "\n",
    "    #[{},{},{}] \n",
    "    # [] - 100 개의 데이터, {title:'',link:''} - 1개의 블로그 글 데이터\n",
    "\n",
    "    # 'title' , 'bloggername' , 'description' , 'bloggerlink' , 'link'\n",
    "    items_list = list()\n",
    "    item_list = []\n",
    "    for item in items_data[:2]:\n",
    "    #     print(item)\n",
    "        item_list.append(item['title'])\n",
    "\n",
    "        items_list.append(item_list)\n",
    "        item_list = []\n",
    "\n",
    "    print(items_list) #[[],[]]\n",
    "\n",
    "    # 'data/nhnblog.txt' 파일 생성하기\n",
    "    with open('data/books.json','w',encoding=\"utf-8\")as file:\n",
    "        if not os.path.exists('data'):\n",
    "            os.makedirs('data')\n",
    "        for items in items_list:\n",
    "            for item in items:\n",
    "                item = item + '\\n'\n",
    "                file.write(item)\n",
    "            file.write('-'*150+'\\n')\n",
    "\n",
    "search_books(\"파이썬\")"
   ]
  }
 ],
 "metadata": {
  "kernelspec": {
   "display_name": "base",
   "language": "python",
   "name": "python3"
  },
  "language_info": {
   "codemirror_mode": {
    "name": "ipython",
    "version": 3
   },
   "file_extension": ".py",
   "mimetype": "text/x-python",
   "name": "python",
   "nbconvert_exporter": "python",
   "pygments_lexer": "ipython3",
   "version": "3.12.7"
  }
 },
 "nbformat": 4,
 "nbformat_minor": 5
}
